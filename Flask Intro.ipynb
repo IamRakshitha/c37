{
 "cells": [
  {
   "cell_type": "code",
   "execution_count": 1,
   "id": "1cb9eef6",
   "metadata": {},
   "outputs": [],
   "source": [
    "from flask import Flask"
   ]
  },
  {
   "cell_type": "code",
   "execution_count": 2,
   "id": "3728c284",
   "metadata": {},
   "outputs": [],
   "source": [
    "# >>> import numpy as np\n",
    "# >>> from sklearn.linear_model import LinearRegression\n",
    "##########################################################################\n",
    "\n",
    "# >>> reg = LinearRegression().fit(X, y) Creating a Instance for Linear Regression Class\n",
    " ######################################################################\n",
    "\n",
    "\n",
    "##################################\n",
    "# >>> reg.score(X, y) We use this reg(instance) to take advantage of any functionality provided by Linear Regression "
   ]
  },
  {
   "cell_type": "code",
   "execution_count": 3,
   "id": "49ce3d71",
   "metadata": {},
   "outputs": [
    {
     "name": "stdout",
     "output_type": "stream",
     "text": [
      " * Serving Flask app '__main__' (lazy loading)\n",
      " * Environment: production\n",
      "   WARNING: This is a development server. Do not use it in a production deployment.\n",
      "   Use a production WSGI server instead.\n",
      " * Debug mode: off\n"
     ]
    },
    {
     "name": "stderr",
     "output_type": "stream",
     "text": [
      " * Running on http://127.0.0.1:5000/ (Press CTRL+C to quit)\n",
      "127.0.0.1 - - [08/Oct/2022 14:42:29] \"GET / HTTP/1.1\" 200 -\n"
     ]
    }
   ],
   "source": [
    "# Creating Instance in the same way as Linear Regression\n",
    "app = Flask(__name__) # Dir struct is requried in Flask aand this paramete __name__ take care of it\n",
    "# We can use any functionality from Flask\n",
    "\n",
    "\n",
    "@app.route(\"/\") # It binds/maps the bellow function with the url\n",
    "def hello():\n",
    "    return \" Hello I am emjoying the Session\"\n",
    "\n",
    "app.run()"
   ]
  },
  {
   "cell_type": "code",
   "execution_count": 4,
   "id": "34f4e78a",
   "metadata": {},
   "outputs": [
    {
     "name": "stdout",
     "output_type": "stream",
     "text": [
      " * Serving Flask app '__main__' (lazy loading)\n",
      " * Environment: production\n",
      "   WARNING: This is a development server. Do not use it in a production deployment.\n",
      "   Use a production WSGI server instead.\n",
      " * Debug mode: off\n"
     ]
    },
    {
     "name": "stderr",
     "output_type": "stream",
     "text": [
      " * Running on http://127.0.0.1:5001/ (Press CTRL+C to quit)\n",
      "127.0.0.1 - - [08/Oct/2022 14:43:08] \"GET / HTTP/1.1\" 404 -\n",
      "127.0.0.1 - - [08/Oct/2022 14:43:14] \"GET /mahek HTTP/1.1\" 200 -\n"
     ]
    }
   ],
   "source": [
    "# Creating Instance in the same way as Linear Regression\n",
    "app = Flask(__name__) # Dir struct is requried in Flask aand this paramete __name__ take care of it\n",
    "# We can use any functionality from Flask\n",
    "\n",
    "# Dynamic Url\n",
    "@app.route(\"/<name>\") # It binds/maps the bellow function with the url\n",
    "def hello(name):\n",
    "    return f\"<Html><h1> Hello I am {name} and I am dancing\"\n",
    "\n",
    "app.run(port=5001) # is for detecting the change and automatically reload the server debug"
   ]
  },
  {
   "cell_type": "code",
   "execution_count": 10,
   "id": "699c3dda",
   "metadata": {},
   "outputs": [
    {
     "data": {
      "text/plain": [
       "' My name is aushy'"
      ]
     },
     "execution_count": 10,
     "metadata": {},
     "output_type": "execute_result"
    }
   ],
   "source": [
    "name = \"aushy\"\n",
    "f\" My name is {name}\""
   ]
  },
  {
   "cell_type": "code",
   "execution_count": null,
   "id": "63ae1d4c",
   "metadata": {},
   "outputs": [],
   "source": []
  }
 ],
 "metadata": {
  "kernelspec": {
   "display_name": "Python 3 (ipykernel)",
   "language": "python",
   "name": "python3"
  },
  "language_info": {
   "codemirror_mode": {
    "name": "ipython",
    "version": 3
   },
   "file_extension": ".py",
   "mimetype": "text/x-python",
   "name": "python",
   "nbconvert_exporter": "python",
   "pygments_lexer": "ipython3",
   "version": "3.8.8"
  }
 },
 "nbformat": 4,
 "nbformat_minor": 5
}
